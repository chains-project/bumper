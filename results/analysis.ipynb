{
 "cells": [
  {
   "cell_type": "markdown",
   "source": [
    "# Bumper experiments analysis\n",
    "## GOAL\n",
    "The goal of this document is to load, extract, aggregate and analyze data from the experiments run with Bumper pipelines (base, standard, advanced) and gain useful insights on what can be useful in APR for dependency updates.\n",
    "\n",
    "## Experiments structure\n",
    "Bumper is evaluated on the BUMP benchmark, in three pipeline versions (base, standard and advanced)."
   ],
   "metadata": {
    "collapsed": false
   },
   "id": "2d2048f016cec4fc"
  },
  {
   "cell_type": "code",
   "source": [
    "import os\n",
    "import matplotlib.pyplot as plt\n",
    "import pandas as pd\n",
    "import json"
   ],
   "metadata": {
    "collapsed": false,
    "ExecuteTime": {
     "end_time": "2024-05-25T23:17:35.577629Z",
     "start_time": "2024-05-25T23:17:35.572764Z"
    }
   },
   "id": "ba35a65f98549047",
   "outputs": [],
   "execution_count": 64
  },
  {
   "cell_type": "code",
   "source": [
    "# Define the pipeline versions and experiment ids\n",
    "pipelines = [\"baseline\", \"standard\", \"advanced\"]\n",
    "experiment_ids = {\n",
    "    'without_diff': \"20240524_without_diff\",\n",
    "    \"with_diff\": \"20240524_with_diff\",\n",
    "}\n",
    "models = [\"gpt4\", \"gemini\", \"mixtral\", \"llama\"]"
   ],
   "metadata": {
    "collapsed": false,
    "ExecuteTime": {
     "end_time": "2024-05-25T23:17:35.593990Z",
     "start_time": "2024-05-25T23:17:35.591376Z"
    }
   },
   "id": "28e642684607e2cf",
   "outputs": [],
   "execution_count": 65
  },
  {
   "cell_type": "markdown",
   "source": [
    "## Helper Functions"
   ],
   "metadata": {
    "collapsed": false
   },
   "id": "b211d11fda90bf0e"
  },
  {
   "cell_type": "code",
   "id": "initial_id",
   "metadata": {
    "collapsed": true,
    "ExecuteTime": {
     "end_time": "2024-05-25T23:17:35.605095Z",
     "start_time": "2024-05-25T23:17:35.595324Z"
    }
   },
   "source": [
    "def load_report(pipeline, experiment_id, model):\n",
    "    path = f\"benchmark/{experiment_id}/bump/{pipeline}/{model}/report.json\"\n",
    "\n",
    "    if not os.path.exists(path):\n",
    "        print(f\"{path} does not exist\")\n",
    "        exit(1)\n",
    "        return None\n",
    "\n",
    "    with open(path, \"r\") as f:\n",
    "        result = json.loads(f.read())\n",
    "        f.close()\n",
    "        return result\n",
    "\n",
    "\n",
    "def get_stats_from_report(report):\n",
    "    result = {\n",
    "        \"number_of_projects\": 0,\n",
    "        \"number_of_repaired_projects\": 0,\n",
    "        \"number_of_generated_patches\": 0,\n",
    "        \"number_of_errors\": 0,\n",
    "        \"number_of_repaired_errors\": 0,\n",
    "        \"avg_repair_progress\": 0\n",
    "    }\n",
    "\n",
    "    for k in report:\n",
    "        project = report.get(k)\n",
    "        result[\"avg_repair_progress\"] = (\n",
    "            (\n",
    "                    (result[\"avg_repair_progress\"] * result[\"number_of_projects\"]) + min(1, project[\"fixed_errors_count\"] / max(project[\"fixed_errors_count\"] + project[\"final_errors_count\"], 1))\n",
    "            ) / (\n",
    "                result[\"number_of_projects\"] + 1\n",
    "            )\n",
    "        )\n",
    "        result[\"number_of_projects\"] += 1\n",
    "        result[\"number_of_repaired_projects\"] += (1 if project[\"repaired\"] else 0)\n",
    "        result[\"number_of_generated_patches\"] += project[\"generated_patch_count\"]\n",
    "        result[\"number_of_errors\"] += (project[\"fixed_errors_count\"] + project[\"final_errors_count\"])\n",
    "        result[\"number_of_repaired_errors\"] += project[\"fixed_errors_count\"]\n",
    "        \n",
    "    result[\"avg_patches_per_repair\"] = result[\"number_of_generated_patches\"] / result[\"number_of_repaired_errors\"]\n",
    "\n",
    "    return result\n",
    "\n",
    "\n",
    "def get_stats_per_model(pipeline, experiment):\n",
    "    data = {}\n",
    "    for model in models:\n",
    "        data[model] = get_stats_from_report(load_report(pipeline, experiment_ids[experiment], model))\n",
    "    return data\n",
    "\n",
    "\n",
    "def get_stats_per_project(pipeline, experiment):\n",
    "    data = {}\n",
    "    for model in models:\n",
    "        report = load_report(pipeline, experiment_ids[experiment], model)\n",
    "        for project in report:\n",
    "            if data.get(project, None) is None:\n",
    "                data[project] = {}\n",
    "\n",
    "            data[project][model] = report[project]\n",
    "    return data\n",
    "\n",
    "def plot_stats(stats, filename = None):\n",
    "    df = pd.DataFrame.from_dict(stats, orient=\"index\")\n",
    "    colors = [\"r\", \"b\", \"g\", \"black\"]\n",
    "    \n",
    "    fig, axes = plt.subplots(nrows=2, ncols=2, figsize=(10, 5))\n",
    "    fig.tight_layout(pad=2.5)\n",
    "    df[\"avg_repair_progress\"].plot(ax=axes[0][0], kind='barh',stacked=False,title='Average progress in repair', color=colors)\n",
    "    axes[0][0].set_xticks([x / 100.0 for x in range(0, 101, 25)])\n",
    "    \n",
    "    df[\"number_of_generated_patches\"].plot(ax=axes[0][1], kind ='barh',stacked=False,title='Number of Generated Patches', color=colors)\n",
    "    df[\"number_of_repaired_projects\"].plot(\n",
    "        ax=axes[1][0],\n",
    "        kind='barh',\n",
    "        stacked=False,\n",
    "        title='Number of Repaired Projects', \n",
    "        color=colors,\n",
    "    )\n",
    "    axes[1][0].set_xticks(range(0, 40, 5))\n",
    "    \n",
    "    df[\"number_of_repaired_errors\"].plot(ax=axes[1][1], kind='barh',stacked=False,title='Number of Repaired Errors', color=colors)\n",
    "    if filename is not None:\n",
    "        fig.savefig(f\"images/{filename}.png\")\n",
    "    "
   ],
   "outputs": [],
   "execution_count": 66
  },
  {
   "cell_type": "markdown",
   "source": [
    "# Base pipeline performance\n",
    "## Without api diff (Baseline)"
   ],
   "metadata": {
    "collapsed": false
   },
   "id": "d39bb9ecee576538"
  },
  {
   "cell_type": "code",
   "source": [
    "stats = get_stats_per_model(\"baseline\", \"without_diff\")\n",
    "pd.DataFrame(stats)"
   ],
   "metadata": {
    "collapsed": false,
    "ExecuteTime": {
     "end_time": "2024-05-25T23:17:35.616692Z",
     "start_time": "2024-05-25T23:17:35.605975Z"
    }
   },
   "id": "c0100fbb74e9530a",
   "outputs": [
    {
     "data": {
      "text/plain": [
       "                                   gpt4      gemini     mixtral       llama\n",
       "number_of_projects            35.000000   35.000000   35.000000   35.000000\n",
       "number_of_repaired_projects    1.000000    2.000000    1.000000    2.000000\n",
       "number_of_generated_patches  364.000000  232.000000  169.000000  326.000000\n",
       "number_of_errors             190.000000  122.000000   96.000000  173.000000\n",
       "number_of_repaired_errors    115.000000   47.000000   37.000000   91.000000\n",
       "avg_repair_progress            0.302579    0.290794    0.270918    0.383469\n",
       "avg_patches_per_repair         3.165217    4.936170    4.567568    3.582418"
      ],
      "text/html": [
       "<div>\n",
       "<style scoped>\n",
       "    .dataframe tbody tr th:only-of-type {\n",
       "        vertical-align: middle;\n",
       "    }\n",
       "\n",
       "    .dataframe tbody tr th {\n",
       "        vertical-align: top;\n",
       "    }\n",
       "\n",
       "    .dataframe thead th {\n",
       "        text-align: right;\n",
       "    }\n",
       "</style>\n",
       "<table border=\"1\" class=\"dataframe\">\n",
       "  <thead>\n",
       "    <tr style=\"text-align: right;\">\n",
       "      <th></th>\n",
       "      <th>gpt4</th>\n",
       "      <th>gemini</th>\n",
       "      <th>mixtral</th>\n",
       "      <th>llama</th>\n",
       "    </tr>\n",
       "  </thead>\n",
       "  <tbody>\n",
       "    <tr>\n",
       "      <th>number_of_projects</th>\n",
       "      <td>35.000000</td>\n",
       "      <td>35.000000</td>\n",
       "      <td>35.000000</td>\n",
       "      <td>35.000000</td>\n",
       "    </tr>\n",
       "    <tr>\n",
       "      <th>number_of_repaired_projects</th>\n",
       "      <td>1.000000</td>\n",
       "      <td>2.000000</td>\n",
       "      <td>1.000000</td>\n",
       "      <td>2.000000</td>\n",
       "    </tr>\n",
       "    <tr>\n",
       "      <th>number_of_generated_patches</th>\n",
       "      <td>364.000000</td>\n",
       "      <td>232.000000</td>\n",
       "      <td>169.000000</td>\n",
       "      <td>326.000000</td>\n",
       "    </tr>\n",
       "    <tr>\n",
       "      <th>number_of_errors</th>\n",
       "      <td>190.000000</td>\n",
       "      <td>122.000000</td>\n",
       "      <td>96.000000</td>\n",
       "      <td>173.000000</td>\n",
       "    </tr>\n",
       "    <tr>\n",
       "      <th>number_of_repaired_errors</th>\n",
       "      <td>115.000000</td>\n",
       "      <td>47.000000</td>\n",
       "      <td>37.000000</td>\n",
       "      <td>91.000000</td>\n",
       "    </tr>\n",
       "    <tr>\n",
       "      <th>avg_repair_progress</th>\n",
       "      <td>0.302579</td>\n",
       "      <td>0.290794</td>\n",
       "      <td>0.270918</td>\n",
       "      <td>0.383469</td>\n",
       "    </tr>\n",
       "    <tr>\n",
       "      <th>avg_patches_per_repair</th>\n",
       "      <td>3.165217</td>\n",
       "      <td>4.936170</td>\n",
       "      <td>4.567568</td>\n",
       "      <td>3.582418</td>\n",
       "    </tr>\n",
       "  </tbody>\n",
       "</table>\n",
       "</div>"
      ]
     },
     "execution_count": 67,
     "metadata": {},
     "output_type": "execute_result"
    }
   ],
   "execution_count": 67
  },
  {
   "cell_type": "code",
   "source": [
    "stats = get_stats_per_model(\"baseline\", \"without_diff\")\n",
    "plot_stats(stats, \"baseline_no_diff\")"
   ],
   "metadata": {
    "collapsed": false,
    "ExecuteTime": {
     "end_time": "2024-05-25T23:17:35.900665Z",
     "start_time": "2024-05-25T23:17:35.617924Z"
    }
   },
   "id": "c6f2cf83f530a510",
   "outputs": [
    {
     "data": {
      "text/plain": [
       "<Figure size 1000x500 with 4 Axes>"
      ],
      "image/png": "[encoded data removed]"
     },
     "metadata": {},
     "output_type": "display_data"
    }
   ],
   "execution_count": 68
  },
  {
   "cell_type": "markdown",
   "source": [
    "## With api diff"
   ],
   "metadata": {
    "collapsed": false
   },
   "id": "6bc69833fbfb825c"
  },
  {
   "cell_type": "code",
   "source": [
    "stats = get_stats_per_model(\"baseline\", \"with_diff\")\n",
    "pd.DataFrame(stats)"
   ],
   "metadata": {
    "collapsed": false,
    "ExecuteTime": {
     "end_time": "2024-05-25T23:17:35.908775Z",
     "start_time": "2024-05-25T23:17:35.901573Z"
    }
   },
   "id": "5689fe847e0e37b4",
   "outputs": [
    {
     "data": {
      "text/plain": [
       "                                   gpt4      gemini     mixtral       llama\n",
       "number_of_projects            35.000000   35.000000   35.000000   35.000000\n",
       "number_of_repaired_projects    4.000000    5.000000    3.000000    5.000000\n",
       "number_of_generated_patches  286.000000  329.000000  277.000000  354.000000\n",
       "number_of_errors             195.000000  150.000000  181.000000  174.000000\n",
       "number_of_repaired_errors    152.000000  104.000000  117.000000  117.000000\n",
       "avg_repair_progress            0.506746    0.476359    0.404004    0.485119\n",
       "avg_patches_per_repair         1.881579    3.163462    2.367521    3.025641"
      ],
      "text/html": [
       "<div>\n",
       "<style scoped>\n",
       "    .dataframe tbody tr th:only-of-type {\n",
       "        vertical-align: middle;\n",
       "    }\n",
       "\n",
       "    .dataframe tbody tr th {\n",
       "        vertical-align: top;\n",
       "    }\n",
       "\n",
       "    .dataframe thead th {\n",
       "        text-align: right;\n",
       "    }\n",
       "</style>\n",
       "<table border=\"1\" class=\"dataframe\">\n",
       "  <thead>\n",
       "    <tr style=\"text-align: right;\">\n",
       "      <th></th>\n",
       "      <th>gpt4</th>\n",
       "      <th>gemini</th>\n",
       "      <th>mixtral</th>\n",
       "      <th>llama</th>\n",
       "    </tr>\n",
       "  </thead>\n",
       "  <tbody>\n",
       "    <tr>\n",
       "      <th>number_of_projects</th>\n",
       "      <td>35.000000</td>\n",
       "      <td>35.000000</td>\n",
       "      <td>35.000000</td>\n",
       "      <td>35.000000</td>\n",
       "    </tr>\n",
       "    <tr>\n",
       "      <th>number_of_repaired_projects</th>\n",
       "      <td>4.000000</td>\n",
       "      <td>5.000000</td>\n",
       "      <td>3.000000</td>\n",
       "      <td>5.000000</td>\n",
       "    </tr>\n",
       "    <tr>\n",
       "      <th>number_of_generated_patches</th>\n",
       "      <td>286.000000</td>\n",
       "      <td>329.000000</td>\n",
       "      <td>277.000000</td>\n",
       "      <td>354.000000</td>\n",
       "    </tr>\n",
       "    <tr>\n",
       "      <th>number_of_errors</th>\n",
       "      <td>195.000000</td>\n",
       "      <td>150.000000</td>\n",
       "      <td>181.000000</td>\n",
       "      <td>174.000000</td>\n",
       "    </tr>\n",
       "    <tr>\n",
       "      <th>number_of_repaired_errors</th>\n",
       "      <td>152.000000</td>\n",
       "      <td>104.000000</td>\n",
       "      <td>117.000000</td>\n",
       "      <td>117.000000</td>\n",
       "    </tr>\n",
       "    <tr>\n",
       "      <th>avg_repair_progress</th>\n",
       "      <td>0.506746</td>\n",
       "      <td>0.476359</td>\n",
       "      <td>0.404004</td>\n",
       "      <td>0.485119</td>\n",
       "    </tr>\n",
       "    <tr>\n",
       "      <th>avg_patches_per_repair</th>\n",
       "      <td>1.881579</td>\n",
       "      <td>3.163462</td>\n",
       "      <td>2.367521</td>\n",
       "      <td>3.025641</td>\n",
       "    </tr>\n",
       "  </tbody>\n",
       "</table>\n",
       "</div>"
      ]
     },
     "execution_count": 69,
     "metadata": {},
     "output_type": "execute_result"
    }
   ],
   "execution_count": 69
  },
  {
   "cell_type": "code",
   "source": [
    "stats = get_stats_per_model(\"baseline\", \"with_diff\")\n",
    "plot_stats(stats, \"baseline_with_diff\")"
   ],
   "metadata": {
    "collapsed": false,
    "ExecuteTime": {
     "end_time": "2024-05-25T23:17:36.240284Z",
     "start_time": "2024-05-25T23:17:35.909509Z"
    }
   },
   "id": "ddb4226211f4b9ab",
   "outputs": [
    {
     "data": {
      "text/plain": [
       "<Figure size 1000x500 with 4 Axes>"
      ],
      "image/png": "[encoded data removed]"
     },
     "metadata": {},
     "output_type": "display_data"
    }
   ],
   "execution_count": 70
  },
  {
   "cell_type": "markdown",
   "source": [
    "## Standard\n",
    "### Without api diff"
   ],
   "metadata": {
    "collapsed": false
   },
   "id": "6e553dceb861dae9"
  },
  {
   "cell_type": "code",
   "source": [
    "stats = get_stats_per_model(\"standard\", \"without_diff\")\n",
    "pd.DataFrame(stats)"
   ],
   "metadata": {
    "collapsed": false,
    "ExecuteTime": {
     "end_time": "2024-05-25T23:17:36.264382Z",
     "start_time": "2024-05-25T23:17:36.241092Z"
    }
   },
   "id": "e18bde0de97fb6c",
   "outputs": [
    {
     "name": "stdout",
     "output_type": "stream",
     "text": [
      "benchmark/20240524_without_diff/bump/standard/gpt4/report.json does not exist\n"
     ]
    },
    {
     "ename": "TypeError",
     "evalue": "'NoneType' object is not iterable",
     "output_type": "error",
     "traceback": [
      "\u001B[0;31m---------------------------------------------------------------------------\u001B[0m",
      "\u001B[0;31mTypeError\u001B[0m                                 Traceback (most recent call last)",
      "Cell \u001B[0;32mIn[71], line 1\u001B[0m\n\u001B[0;32m----> 1\u001B[0m stats \u001B[38;5;241m=\u001B[39m \u001B[43mget_stats_per_model\u001B[49m\u001B[43m(\u001B[49m\u001B[38;5;124;43m\"\u001B[39;49m\u001B[38;5;124;43mstandard\u001B[39;49m\u001B[38;5;124;43m\"\u001B[39;49m\u001B[43m,\u001B[49m\u001B[43m \u001B[49m\u001B[38;5;124;43m\"\u001B[39;49m\u001B[38;5;124;43mwithout_diff\u001B[39;49m\u001B[38;5;124;43m\"\u001B[39;49m\u001B[43m)\u001B[49m\n\u001B[1;32m      2\u001B[0m pd\u001B[38;5;241m.\u001B[39mDataFrame(stats)\n",
      "Cell \u001B[0;32mIn[66], line 48\u001B[0m, in \u001B[0;36mget_stats_per_model\u001B[0;34m(pipeline, experiment)\u001B[0m\n\u001B[1;32m     46\u001B[0m data \u001B[38;5;241m=\u001B[39m {}\n\u001B[1;32m     47\u001B[0m \u001B[38;5;28;01mfor\u001B[39;00m model \u001B[38;5;129;01min\u001B[39;00m models:\n\u001B[0;32m---> 48\u001B[0m     data[model] \u001B[38;5;241m=\u001B[39m \u001B[43mget_stats_from_report\u001B[49m\u001B[43m(\u001B[49m\u001B[43mload_report\u001B[49m\u001B[43m(\u001B[49m\u001B[43mpipeline\u001B[49m\u001B[43m,\u001B[49m\u001B[43m \u001B[49m\u001B[43mexperiment_ids\u001B[49m\u001B[43m[\u001B[49m\u001B[43mexperiment\u001B[49m\u001B[43m]\u001B[49m\u001B[43m,\u001B[49m\u001B[43m \u001B[49m\u001B[43mmodel\u001B[49m\u001B[43m)\u001B[49m\u001B[43m)\u001B[49m\n\u001B[1;32m     49\u001B[0m \u001B[38;5;28;01mreturn\u001B[39;00m data\n",
      "Cell \u001B[0;32mIn[66], line 25\u001B[0m, in \u001B[0;36mget_stats_from_report\u001B[0;34m(report)\u001B[0m\n\u001B[1;32m     15\u001B[0m \u001B[38;5;28;01mdef\u001B[39;00m \u001B[38;5;21mget_stats_from_report\u001B[39m(report):\n\u001B[1;32m     16\u001B[0m     result \u001B[38;5;241m=\u001B[39m {\n\u001B[1;32m     17\u001B[0m         \u001B[38;5;124m\"\u001B[39m\u001B[38;5;124mnumber_of_projects\u001B[39m\u001B[38;5;124m\"\u001B[39m: \u001B[38;5;241m0\u001B[39m,\n\u001B[1;32m     18\u001B[0m         \u001B[38;5;124m\"\u001B[39m\u001B[38;5;124mnumber_of_repaired_projects\u001B[39m\u001B[38;5;124m\"\u001B[39m: \u001B[38;5;241m0\u001B[39m,\n\u001B[0;32m   (...)\u001B[0m\n\u001B[1;32m     22\u001B[0m         \u001B[38;5;124m\"\u001B[39m\u001B[38;5;124mavg_repair_progress\u001B[39m\u001B[38;5;124m\"\u001B[39m: \u001B[38;5;241m0\u001B[39m\n\u001B[1;32m     23\u001B[0m     }\n\u001B[0;32m---> 25\u001B[0m     \u001B[38;5;28;01mfor\u001B[39;00m k \u001B[38;5;129;01min\u001B[39;00m report:\n\u001B[1;32m     26\u001B[0m         project \u001B[38;5;241m=\u001B[39m report\u001B[38;5;241m.\u001B[39mget(k)\n\u001B[1;32m     27\u001B[0m         result[\u001B[38;5;124m\"\u001B[39m\u001B[38;5;124mavg_repair_progress\u001B[39m\u001B[38;5;124m\"\u001B[39m] \u001B[38;5;241m=\u001B[39m (\n\u001B[1;32m     28\u001B[0m             (\n\u001B[1;32m     29\u001B[0m                     (result[\u001B[38;5;124m\"\u001B[39m\u001B[38;5;124mavg_repair_progress\u001B[39m\u001B[38;5;124m\"\u001B[39m] \u001B[38;5;241m*\u001B[39m result[\u001B[38;5;124m\"\u001B[39m\u001B[38;5;124mnumber_of_projects\u001B[39m\u001B[38;5;124m\"\u001B[39m]) \u001B[38;5;241m+\u001B[39m \u001B[38;5;28mmin\u001B[39m(\u001B[38;5;241m1\u001B[39m, project[\u001B[38;5;124m\"\u001B[39m\u001B[38;5;124mfixed_errors_count\u001B[39m\u001B[38;5;124m\"\u001B[39m] \u001B[38;5;241m/\u001B[39m \u001B[38;5;28mmax\u001B[39m(project[\u001B[38;5;124m\"\u001B[39m\u001B[38;5;124mfixed_errors_count\u001B[39m\u001B[38;5;124m\"\u001B[39m] \u001B[38;5;241m+\u001B[39m project[\u001B[38;5;124m\"\u001B[39m\u001B[38;5;124mfinal_errors_count\u001B[39m\u001B[38;5;124m\"\u001B[39m], \u001B[38;5;241m1\u001B[39m))\n\u001B[0;32m   (...)\u001B[0m\n\u001B[1;32m     32\u001B[0m             )\n\u001B[1;32m     33\u001B[0m         )\n",
      "\u001B[0;31mTypeError\u001B[0m: 'NoneType' object is not iterable"
     ]
    }
   ],
   "execution_count": 71
  },
  {
   "cell_type": "code",
   "source": [
    "stats = get_stats_per_model(\"standard\", \"without_diff\")\n",
    "plot_stats(stats, \"standard_no_diff\")"
   ],
   "metadata": {
    "collapsed": false,
    "ExecuteTime": {
     "end_time": "2024-05-25T23:17:36.265394Z",
     "start_time": "2024-05-25T23:17:36.265299Z"
    }
   },
   "id": "5c5bdfb9f8265442",
   "outputs": [],
   "execution_count": null
  },
  {
   "cell_type": "markdown",
   "source": [
    "## With api diff"
   ],
   "metadata": {
    "collapsed": false
   },
   "id": "3add85a3735c5698"
  },
  {
   "cell_type": "code",
   "source": [
    "stats = get_stats_per_model(\"standard\", \"with_diff\")\n",
    "pd.DataFrame(stats)"
   ],
   "metadata": {
    "collapsed": false,
    "ExecuteTime": {
     "end_time": "2024-05-25T23:17:36.266059Z",
     "start_time": "2024-05-25T23:17:36.265998Z"
    }
   },
   "id": "581c08a21424a324",
   "outputs": [],
   "execution_count": null
  },
  {
   "cell_type": "code",
   "source": [
    "stats = get_stats_per_model(\"standard\", \"with_diff\")\n",
    "plot_stats(stats, \"standard_with_diff\")"
   ],
   "metadata": {
    "collapsed": false
   },
   "id": "167953f131882759",
   "outputs": [],
   "execution_count": null
  },
  {
   "metadata": {},
   "cell_type": "markdown",
   "source": [
    "## Advanced\n",
    "### With API Diff"
   ],
   "id": "db26ec1930b71c1c"
  },
  {
   "metadata": {},
   "cell_type": "code",
   "source": [
    "stats = get_stats_per_model(\"advanced\", \"with_diff\")\n",
    "pd.DataFrame(stats)"
   ],
   "id": "2d31712162fa589c",
   "outputs": [],
   "execution_count": null
  },
  {
   "metadata": {},
   "cell_type": "code",
   "source": [
    "stats = get_stats_per_model(\"advanced\", \"with_diff\")\n",
    "plot_stats(stats, \"advanced_with_diff\")"
   ],
   "id": "5c5727ced1fef869",
   "outputs": [],
   "execution_count": null
  },
  {
   "metadata": {},
   "cell_type": "code",
   "source": "",
   "id": "8ebac8c6266b6936",
   "outputs": [],
   "execution_count": null
  }
 ],
 "metadata": {
  "kernelspec": {
   "display_name": "Python 3",
   "language": "python",
   "name": "python3"
  },
  "language_info": {
   "codemirror_mode": {
    "name": "ipython",
    "version": 2
   },
   "file_extension": ".py",
   "mimetype": "text/x-python",
   "name": "python",
   "nbconvert_exporter": "python",
   "pygments_lexer": "ipython2",
   "version": "2.7.6"
  }
 },
 "nbformat": 4,
 "nbformat_minor": 5
}
