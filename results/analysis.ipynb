{
 "cells": [
  {
   "cell_type": "markdown",
   "source": [
    "# Bumper experiments analysis\n",
    "## GOAL\n",
    "The goal of this document is to load, extract, aggregate and analyze data from the experiments run with Bumper pipelines (base, standard, advanced) and gain useful insights on what can be useful in APR for dependency updates.\n",
    "\n",
    "## Experiments structure\n",
    "Bumper is evaluated on the BUMP benchmark, in three pipeline versions (base, standard and advanced)."
   ],
   "metadata": {
    "collapsed": false
   },
   "id": "2d2048f016cec4fc"
  },
  {
   "cell_type": "code",
   "execution_count": 1,
   "outputs": [
    {
     "data": {
      "text/plain": "'/Users/federicobono/Documents/IT/UNI/thesis/code/certa/results'"
     },
     "execution_count": 1,
     "metadata": {},
     "output_type": "execute_result"
    }
   ],
   "source": [
    "import os\n",
    "\n",
    "os.getcwd()"
   ],
   "metadata": {
    "collapsed": false,
    "ExecuteTime": {
     "end_time": "2024-03-28T16:15:31.282967Z",
     "start_time": "2024-03-28T16:15:31.271575Z"
    }
   },
   "id": "ba35a65f98549047"
  },
  {
   "cell_type": "code",
   "execution_count": 2,
   "outputs": [],
   "source": [
    "# Define the pipeline versions and experiment ids\n",
    "pipelines = [\"baseline\", \"standard\", \"advanced\"]\n",
    "experiment_ids = [\"without_diff\", \"with_diff\"]\n",
    "models = [\"gpt4\", \"gemini\", \"mixtral\", \"llama\"]"
   ],
   "metadata": {
    "collapsed": false,
    "ExecuteTime": {
     "end_time": "2024-03-28T16:15:33.039726Z",
     "start_time": "2024-03-28T16:15:33.036503Z"
    }
   },
   "id": "28e642684607e2cf"
  },
  {
   "cell_type": "code",
   "execution_count": 3,
   "id": "initial_id",
   "metadata": {
    "collapsed": true,
    "ExecuteTime": {
     "end_time": "2024-03-28T16:15:33.781167Z",
     "start_time": "2024-03-28T16:15:33.779255Z"
    }
   },
   "outputs": [],
   "source": [
    "import json\n",
    "\n",
    "def load_report(pipeline, experiment, model):\n",
    "    path = f\"benchmark/{experiment}/bump/{pipeline}/{model}/report.json\"\n",
    "    \n",
    "    if not os.path.exists(path):\n",
    "        print(f\"{path} does not exist\")\n",
    "        return None\n",
    "    \n",
    "    with open(path, \"r\") as f:\n",
    "        result = json.loads(f.read())\n",
    "        f.close()\n",
    "        return result"
   ]
  },
  {
   "cell_type": "code",
   "execution_count": 4,
   "outputs": [
    {
     "data": {
      "text/plain": "{'0abf7148300f40a1da0538ab060552bca4a2f1d8': {'py/object': 'pipeline.types.project_repair_status.ProjectRepairStatus',\n  'fixed_errors_count': 1,\n  'generated_patch_count': 3,\n  'repaired': True,\n  'patches': [1711622559]},\n '13fd75e233a5cb2771a6cb186c0decaed6d6545a': {'py/object': 'pipeline.types.project_repair_status.ProjectRepairStatus',\n  'fixed_errors_count': 3,\n  'generated_patch_count': 23,\n  'repaired': False,\n  'patches': [1711622585, 1711622711, 1711622888]},\n '17f2bcaaba4805b218743f575919360c5aec5da4': {'py/object': 'pipeline.types.project_repair_status.ProjectRepairStatus',\n  'fixed_errors_count': 3,\n  'generated_patch_count': 17,\n  'repaired': False,\n  'patches': [1711623136, 1711623237, 1711623353]},\n '1ef97ea6c5b6e34151fe6167001b69e003449f95': {'py/object': 'pipeline.types.project_repair_status.ProjectRepairStatus',\n  'fixed_errors_count': 0,\n  'generated_patch_count': 10,\n  'repaired': False,\n  'patches': []},\n '24d4a90ec1b375751e71f33d18949405c9529d77': {'py/object': 'pipeline.types.project_repair_status.ProjectRepairStatus',\n  'fixed_errors_count': 0,\n  'generated_patch_count': 10,\n  'repaired': False,\n  'patches': []},\n '3572a1ecc0154c61e05505aed56055b9c5e539a6': {'py/object': 'pipeline.types.project_repair_status.ProjectRepairStatus',\n  'fixed_errors_count': 0,\n  'generated_patch_count': 10,\n  'repaired': False,\n  'patches': []},\n '38c9915f0cfdf0c1a2b17c3c6f283c23a0aac0cf': {'py/object': 'pipeline.types.project_repair_status.ProjectRepairStatus',\n  'fixed_errors_count': 17,\n  'generated_patch_count': 31,\n  'repaired': False,\n  'patches': [1711624250,\n   1711624310,\n   1711624332,\n   1711624353,\n   1711624374,\n   1711624397,\n   1711624418,\n   1711624439,\n   1711624460,\n   1711624482,\n   1711624521,\n   1711624542,\n   1711624563,\n   1711624583,\n   1711624627,\n   1711624648,\n   1711624669]},\n '43c824a24b09efd8b4b00449ce31cd121a6b23eb': {'py/object': 'pipeline.types.project_repair_status.ProjectRepairStatus',\n  'fixed_errors_count': 0,\n  'generated_patch_count': 10,\n  'repaired': False,\n  'patches': []},\n '4a3efad6e00824e5814b9c8f571c9c98aad40281': {'py/object': 'pipeline.types.project_repair_status.ProjectRepairStatus',\n  'fixed_errors_count': 0,\n  'generated_patch_count': 10,\n  'repaired': False,\n  'patches': []},\n '4aab2869639226035c999c282f31efba15648ea3': {'py/object': 'pipeline.types.project_repair_status.ProjectRepairStatus',\n  'fixed_errors_count': 1,\n  'generated_patch_count': 11,\n  'repaired': False,\n  'patches': [1711625268]},\n '54abbbde6a1233e1523a9b5f811ea100efb5dead': {'py/object': 'pipeline.types.project_repair_status.ProjectRepairStatus',\n  'fixed_errors_count': 0,\n  'generated_patch_count': 10,\n  'repaired': False,\n  'patches': []},\n '5fcd0c3ad7727850c47602b17530dc355e5bd097': {'py/object': 'pipeline.types.project_repair_status.ProjectRepairStatus',\n  'fixed_errors_count': 0,\n  'generated_patch_count': 10,\n  'repaired': False,\n  'patches': []},\n '65200df71d5f6ab1c5502f74a5dc7bcbda459563': {'py/object': 'pipeline.types.project_repair_status.ProjectRepairStatus',\n  'fixed_errors_count': 0,\n  'generated_patch_count': 10,\n  'repaired': False,\n  'patches': []},\n '6ad104c4fb9263ad1bb29e6b33618b8225efd92d': {'py/object': 'pipeline.types.project_repair_status.ProjectRepairStatus',\n  'fixed_errors_count': 0,\n  'generated_patch_count': 10,\n  'repaired': False,\n  'patches': []},\n '7d97e1c7331f6722eb1d8192bf0a2686f5a33798': {'py/object': 'pipeline.types.project_repair_status.ProjectRepairStatus',\n  'fixed_errors_count': 0,\n  'generated_patch_count': 10,\n  'repaired': False,\n  'patches': []},\n '7f7de81d28b68b091bef2e6f6ffd1836167be6ea': {'py/object': 'pipeline.types.project_repair_status.ProjectRepairStatus',\n  'fixed_errors_count': 0,\n  'generated_patch_count': 10,\n  'repaired': False,\n  'patches': []},\n '832e0f184efdad0fcf15d14cb7af5e30239ff454': {'py/object': 'pipeline.types.project_repair_status.ProjectRepairStatus',\n  'fixed_errors_count': 0,\n  'generated_patch_count': 10,\n  'repaired': False,\n  'patches': []},\n '867e69e208ff59d1f8baae7ed41d3e163a51bc65': {'py/object': 'pipeline.types.project_repair_status.ProjectRepairStatus',\n  'fixed_errors_count': 1,\n  'generated_patch_count': 11,\n  'repaired': False,\n  'patches': [1711627419]},\n '9461431622cf39efe60cf1eb03a94083780c5720': {'py/object': 'pipeline.types.project_repair_status.ProjectRepairStatus',\n  'fixed_errors_count': 0,\n  'generated_patch_count': 10,\n  'repaired': False,\n  'patches': []},\n '9717e34bcda74bd9ad94f6a52ddfd3fd179ea15b': {'py/object': 'pipeline.types.project_repair_status.ProjectRepairStatus',\n  'fixed_errors_count': 0,\n  'generated_patch_count': 10,\n  'repaired': False,\n  'patches': []},\n '9836e07e553e29f16ee35b5d7e4d0370e1789ecd': {'py/object': 'pipeline.types.project_repair_status.ProjectRepairStatus',\n  'fixed_errors_count': 3,\n  'generated_patch_count': 18,\n  'repaired': False,\n  'patches': [1711628347, 1711628417, 1711628528]},\n '9a8b6fc7847a0782ae4c48d0e4f7056507c0397d': {'py/object': 'pipeline.types.project_repair_status.ProjectRepairStatus',\n  'fixed_errors_count': 0,\n  'generated_patch_count': 10,\n  'repaired': False,\n  'patches': []},\n 'a4c360001134c2e3a9f7fbde88a07a9fd767e78e': {'py/object': 'pipeline.types.project_repair_status.ProjectRepairStatus',\n  'fixed_errors_count': 0,\n  'generated_patch_count': 10,\n  'repaired': False,\n  'patches': []},\n 'ab85440ce7321d895c7a9621224ce8059162a26a': {'py/object': 'pipeline.types.project_repair_status.ProjectRepairStatus',\n  'fixed_errors_count': 2,\n  'generated_patch_count': 12,\n  'repaired': False,\n  'patches': [1711629212, 1711629249]},\n 'ae0a0bd1311451e4a5a185a8d96405cfe3e049c5': {'py/object': 'pipeline.types.project_repair_status.ProjectRepairStatus',\n  'fixed_errors_count': 10,\n  'generated_patch_count': 56,\n  'repaired': False,\n  'patches': [1711629490,\n   1711629552,\n   1711629704,\n   1711629833,\n   1711629862,\n   1711630097,\n   1711630144,\n   1711630165,\n   1711630322,\n   1711630488]},\n 'b5b64613a1a650a5784ff39386b4e00e05e5c21c': {'py/object': 'pipeline.types.project_repair_status.ProjectRepairStatus',\n  'fixed_errors_count': 0,\n  'generated_patch_count': 10,\n  'repaired': False,\n  'patches': []},\n 'b8f92ff37d1aed054d8320283fd6d6a492703a55': {'py/object': 'pipeline.types.project_repair_status.ProjectRepairStatus',\n  'fixed_errors_count': 0,\n  'generated_patch_count': 10,\n  'repaired': False,\n  'patches': []},\n 'c0f6ab75784dbc13ae8ff47298704c0756cf3a2c': {'py/object': 'pipeline.types.project_repair_status.ProjectRepairStatus',\n  'fixed_errors_count': 0,\n  'generated_patch_count': 10,\n  'repaired': False,\n  'patches': []},\n 'c311ee0a84b72b15ba64da3514181c2347912225': {'py/object': 'pipeline.types.project_repair_status.ProjectRepairStatus',\n  'fixed_errors_count': 3,\n  'generated_patch_count': 22,\n  'repaired': False,\n  'patches': [1711631563, 1711631622, 1711631820]},\n 'c7c9590a206d4fb77dd05b9df391d888e6181667': {'py/object': 'pipeline.types.project_repair_status.ProjectRepairStatus',\n  'fixed_errors_count': 0,\n  'generated_patch_count': 10,\n  'repaired': False,\n  'patches': []},\n 'd38182a8a0fe1ec039aed97e103864fce717a0be': {'py/object': 'pipeline.types.project_repair_status.ProjectRepairStatus',\n  'fixed_errors_count': 0,\n  'generated_patch_count': 10,\n  'repaired': False,\n  'patches': []},\n 'db02c6bcb989a5b0f08861c3344b532769530467': {'py/object': 'pipeline.types.project_repair_status.ProjectRepairStatus',\n  'fixed_errors_count': 3,\n  'generated_patch_count': 18,\n  'repaired': False,\n  'patches': [1711632605, 1711632708, 1711632794]},\n 'f5bc873a4b68e87761a65064ebea9ad8c3fb085f': {'py/object': 'pipeline.types.project_repair_status.ProjectRepairStatus',\n  'fixed_errors_count': 1,\n  'generated_patch_count': 17,\n  'repaired': False,\n  'patches': [1711633157]},\n 'f6659d758a437f8b676481fe70671a68a6ee1cde': {'py/object': 'pipeline.types.project_repair_status.ProjectRepairStatus',\n  'fixed_errors_count': 1,\n  'generated_patch_count': 13,\n  'repaired': False,\n  'patches': [1711633402]},\n 'f78d34b82926216c0f203c0350f646d481c675e3': {'py/object': 'pipeline.types.project_repair_status.ProjectRepairStatus',\n  'fixed_errors_count': 1,\n  'generated_patch_count': 17,\n  'repaired': False,\n  'patches': [1711633973]}}"
     },
     "execution_count": 4,
     "metadata": {},
     "output_type": "execute_result"
    }
   ],
   "source": [
    "load_report(\"baseline\", \"without_diff\", \"gpt4\")"
   ],
   "metadata": {
    "collapsed": false,
    "ExecuteTime": {
     "end_time": "2024-03-28T16:15:34.187630Z",
     "start_time": "2024-03-28T16:15:34.178006Z"
    }
   },
   "id": "c6f2cf83f530a510"
  },
  {
   "cell_type": "code",
   "execution_count": null,
   "outputs": [],
   "source": [],
   "metadata": {
    "collapsed": false
   },
   "id": "28051941e5137caf"
  }
 ],
 "metadata": {
  "kernelspec": {
   "display_name": "Python 3",
   "language": "python",
   "name": "python3"
  },
  "language_info": {
   "codemirror_mode": {
    "name": "ipython",
    "version": 2
   },
   "file_extension": ".py",
   "mimetype": "text/x-python",
   "name": "python",
   "nbconvert_exporter": "python",
   "pygments_lexer": "ipython2",
   "version": "2.7.6"
  }
 },
 "nbformat": 4,
 "nbformat_minor": 5
}
